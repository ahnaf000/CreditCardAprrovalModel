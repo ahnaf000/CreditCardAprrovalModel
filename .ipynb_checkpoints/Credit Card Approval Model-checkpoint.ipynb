{
 "cells": [
  {
   "cell_type": "markdown",
   "id": "1ab63df7",
   "metadata": {},
   "source": [
    "# Credit Card Approval Model"
   ]
  },
  {
   "cell_type": "markdown",
   "id": "e94e1225",
   "metadata": {},
   "source": [
    "# Motivation"
   ]
  },
  {
   "cell_type": "markdown",
   "id": "6255f957",
   "metadata": {},
   "source": [
    "Commercial banks receive a lot of applications for credit cards. Many of them get rejected for many reasons, like high loan balances, low income levels, or too many inquiries on an individual's credit report, for example. Manually analyzing these applications is mundane, error-prone, and time-consuming (and time is money!). Luckily, this task can be automated with the power of machine learning and pretty much every commercial bank does so nowadays."
   ]
  },
  {
   "cell_type": "markdown",
   "id": "ea958713",
   "metadata": {},
   "source": [
    "#### Importing Libraries and Dependencies"
   ]
  },
  {
   "cell_type": "code",
   "execution_count": 1,
   "id": "602ee2e1",
   "metadata": {},
   "outputs": [],
   "source": [
    "import numpy as np\n",
    "import pandas as pd"
   ]
  },
  {
   "cell_type": "markdown",
   "id": "bc68cd93",
   "metadata": {},
   "source": [
    "#### Data Processing\n",
    "\n",
    "Data Collected from: https://www.kaggle.com/datasets/devzohaib/predicting-credit-card-approvals\n",
    "\n",
    "Let's import the data and clean it first"
   ]
  },
  {
   "cell_type": "code",
   "execution_count": 2,
   "id": "81043d41",
   "metadata": {},
   "outputs": [
    {
     "name": "stdout",
     "output_type": "stream",
     "text": [
      "Shape: (689, 16)\n"
     ]
    },
    {
     "data": {
      "text/html": [
       "<div>\n",
       "<style scoped>\n",
       "    .dataframe tbody tr th:only-of-type {\n",
       "        vertical-align: middle;\n",
       "    }\n",
       "\n",
       "    .dataframe tbody tr th {\n",
       "        vertical-align: top;\n",
       "    }\n",
       "\n",
       "    .dataframe thead th {\n",
       "        text-align: right;\n",
       "    }\n",
       "</style>\n",
       "<table border=\"1\" class=\"dataframe\">\n",
       "  <thead>\n",
       "    <tr style=\"text-align: right;\">\n",
       "      <th></th>\n",
       "      <th>b</th>\n",
       "      <th>30.83</th>\n",
       "      <th>0</th>\n",
       "      <th>u</th>\n",
       "      <th>g</th>\n",
       "      <th>w</th>\n",
       "      <th>v</th>\n",
       "      <th>1.25</th>\n",
       "      <th>t</th>\n",
       "      <th>t.1</th>\n",
       "      <th>01</th>\n",
       "      <th>f</th>\n",
       "      <th>g.1</th>\n",
       "      <th>00202</th>\n",
       "      <th>0.1</th>\n",
       "      <th>+</th>\n",
       "    </tr>\n",
       "  </thead>\n",
       "  <tbody>\n",
       "    <tr>\n",
       "      <th>0</th>\n",
       "      <td>a</td>\n",
       "      <td>58.67</td>\n",
       "      <td>4.460</td>\n",
       "      <td>u</td>\n",
       "      <td>g</td>\n",
       "      <td>q</td>\n",
       "      <td>h</td>\n",
       "      <td>3.04</td>\n",
       "      <td>t</td>\n",
       "      <td>t</td>\n",
       "      <td>6</td>\n",
       "      <td>f</td>\n",
       "      <td>g</td>\n",
       "      <td>00043</td>\n",
       "      <td>560</td>\n",
       "      <td>+</td>\n",
       "    </tr>\n",
       "    <tr>\n",
       "      <th>1</th>\n",
       "      <td>a</td>\n",
       "      <td>24.50</td>\n",
       "      <td>0.500</td>\n",
       "      <td>u</td>\n",
       "      <td>g</td>\n",
       "      <td>q</td>\n",
       "      <td>h</td>\n",
       "      <td>1.50</td>\n",
       "      <td>t</td>\n",
       "      <td>f</td>\n",
       "      <td>0</td>\n",
       "      <td>f</td>\n",
       "      <td>g</td>\n",
       "      <td>00280</td>\n",
       "      <td>824</td>\n",
       "      <td>+</td>\n",
       "    </tr>\n",
       "    <tr>\n",
       "      <th>2</th>\n",
       "      <td>b</td>\n",
       "      <td>27.83</td>\n",
       "      <td>1.540</td>\n",
       "      <td>u</td>\n",
       "      <td>g</td>\n",
       "      <td>w</td>\n",
       "      <td>v</td>\n",
       "      <td>3.75</td>\n",
       "      <td>t</td>\n",
       "      <td>t</td>\n",
       "      <td>5</td>\n",
       "      <td>t</td>\n",
       "      <td>g</td>\n",
       "      <td>00100</td>\n",
       "      <td>3</td>\n",
       "      <td>+</td>\n",
       "    </tr>\n",
       "    <tr>\n",
       "      <th>3</th>\n",
       "      <td>b</td>\n",
       "      <td>20.17</td>\n",
       "      <td>5.625</td>\n",
       "      <td>u</td>\n",
       "      <td>g</td>\n",
       "      <td>w</td>\n",
       "      <td>v</td>\n",
       "      <td>1.71</td>\n",
       "      <td>t</td>\n",
       "      <td>f</td>\n",
       "      <td>0</td>\n",
       "      <td>f</td>\n",
       "      <td>s</td>\n",
       "      <td>00120</td>\n",
       "      <td>0</td>\n",
       "      <td>+</td>\n",
       "    </tr>\n",
       "    <tr>\n",
       "      <th>4</th>\n",
       "      <td>b</td>\n",
       "      <td>32.08</td>\n",
       "      <td>4.000</td>\n",
       "      <td>u</td>\n",
       "      <td>g</td>\n",
       "      <td>m</td>\n",
       "      <td>v</td>\n",
       "      <td>2.50</td>\n",
       "      <td>t</td>\n",
       "      <td>f</td>\n",
       "      <td>0</td>\n",
       "      <td>t</td>\n",
       "      <td>g</td>\n",
       "      <td>00360</td>\n",
       "      <td>0</td>\n",
       "      <td>+</td>\n",
       "    </tr>\n",
       "  </tbody>\n",
       "</table>\n",
       "</div>"
      ],
      "text/plain": [
       "   b  30.83      0  u  g  w  v  1.25  t t.1  01  f g.1  00202  0.1  +\n",
       "0  a  58.67  4.460  u  g  q  h  3.04  t   t   6  f   g  00043  560  +\n",
       "1  a  24.50  0.500  u  g  q  h  1.50  t   f   0  f   g  00280  824  +\n",
       "2  b  27.83  1.540  u  g  w  v  3.75  t   t   5  t   g  00100    3  +\n",
       "3  b  20.17  5.625  u  g  w  v  1.71  t   f   0  f   s  00120    0  +\n",
       "4  b  32.08  4.000  u  g  m  v  2.50  t   f   0  t   g  00360    0  +"
      ]
     },
     "execution_count": 2,
     "metadata": {},
     "output_type": "execute_result"
    }
   ],
   "source": [
    "df = pd.read_csv(\"dat/cc_approvals.data\")\n",
    "print(f\"Shape: {df.shape}\")\n",
    "df.head(5)"
   ]
  },
  {
   "cell_type": "markdown",
   "id": "3bbe1c87",
   "metadata": {},
   "source": [
    "** *This file concerns credit card applications. All attribute names and values have been changed to meaningless symbols to protect confidentiality of the data by the author of the data*"
   ]
  },
  {
   "cell_type": "markdown",
   "id": "1c3b0678",
   "metadata": {},
   "source": [
    "###### Changing Column Names\n",
    "Since the column names have been encrypted, there are giving us no meaningul value. Hence, let's make it more human-readable, and systematic by setting arbitrary column names.\n",
    "\n",
    "I will append **N** in front of the Numeric Variables, and **C** in front of the Categorical Variables. This is how the df looks now"
   ]
  },
  {
   "cell_type": "code",
   "execution_count": 3,
   "id": "bc67015e",
   "metadata": {},
   "outputs": [
    {
     "data": {
      "text/html": [
       "<div>\n",
       "<style scoped>\n",
       "    .dataframe tbody tr th:only-of-type {\n",
       "        vertical-align: middle;\n",
       "    }\n",
       "\n",
       "    .dataframe tbody tr th {\n",
       "        vertical-align: top;\n",
       "    }\n",
       "\n",
       "    .dataframe thead th {\n",
       "        text-align: right;\n",
       "    }\n",
       "</style>\n",
       "<table border=\"1\" class=\"dataframe\">\n",
       "  <thead>\n",
       "    <tr style=\"text-align: right;\">\n",
       "      <th></th>\n",
       "      <th>C1</th>\n",
       "      <th>C2</th>\n",
       "      <th>C3</th>\n",
       "      <th>C4</th>\n",
       "      <th>C5</th>\n",
       "      <th>C6</th>\n",
       "      <th>C7</th>\n",
       "      <th>C8</th>\n",
       "      <th>C9</th>\n",
       "      <th>C10</th>\n",
       "      <th>N1</th>\n",
       "      <th>N2</th>\n",
       "      <th>N3</th>\n",
       "      <th>N4</th>\n",
       "      <th>N5</th>\n",
       "      <th>Approval</th>\n",
       "    </tr>\n",
       "  </thead>\n",
       "  <tbody>\n",
       "    <tr>\n",
       "      <th>0</th>\n",
       "      <td>a</td>\n",
       "      <td>u</td>\n",
       "      <td>g</td>\n",
       "      <td>q</td>\n",
       "      <td>h</td>\n",
       "      <td>t</td>\n",
       "      <td>t</td>\n",
       "      <td>6</td>\n",
       "      <td>f</td>\n",
       "      <td>g</td>\n",
       "      <td>58.67</td>\n",
       "      <td>4.460</td>\n",
       "      <td>3.04</td>\n",
       "      <td>00043</td>\n",
       "      <td>560</td>\n",
       "      <td>1</td>\n",
       "    </tr>\n",
       "    <tr>\n",
       "      <th>1</th>\n",
       "      <td>a</td>\n",
       "      <td>u</td>\n",
       "      <td>g</td>\n",
       "      <td>q</td>\n",
       "      <td>h</td>\n",
       "      <td>t</td>\n",
       "      <td>f</td>\n",
       "      <td>0</td>\n",
       "      <td>f</td>\n",
       "      <td>g</td>\n",
       "      <td>24.50</td>\n",
       "      <td>0.500</td>\n",
       "      <td>1.50</td>\n",
       "      <td>00280</td>\n",
       "      <td>824</td>\n",
       "      <td>1</td>\n",
       "    </tr>\n",
       "    <tr>\n",
       "      <th>2</th>\n",
       "      <td>b</td>\n",
       "      <td>u</td>\n",
       "      <td>g</td>\n",
       "      <td>w</td>\n",
       "      <td>v</td>\n",
       "      <td>t</td>\n",
       "      <td>t</td>\n",
       "      <td>5</td>\n",
       "      <td>t</td>\n",
       "      <td>g</td>\n",
       "      <td>27.83</td>\n",
       "      <td>1.540</td>\n",
       "      <td>3.75</td>\n",
       "      <td>00100</td>\n",
       "      <td>3</td>\n",
       "      <td>1</td>\n",
       "    </tr>\n",
       "    <tr>\n",
       "      <th>3</th>\n",
       "      <td>b</td>\n",
       "      <td>u</td>\n",
       "      <td>g</td>\n",
       "      <td>w</td>\n",
       "      <td>v</td>\n",
       "      <td>t</td>\n",
       "      <td>f</td>\n",
       "      <td>0</td>\n",
       "      <td>f</td>\n",
       "      <td>s</td>\n",
       "      <td>20.17</td>\n",
       "      <td>5.625</td>\n",
       "      <td>1.71</td>\n",
       "      <td>00120</td>\n",
       "      <td>0</td>\n",
       "      <td>1</td>\n",
       "    </tr>\n",
       "    <tr>\n",
       "      <th>4</th>\n",
       "      <td>b</td>\n",
       "      <td>u</td>\n",
       "      <td>g</td>\n",
       "      <td>m</td>\n",
       "      <td>v</td>\n",
       "      <td>t</td>\n",
       "      <td>f</td>\n",
       "      <td>0</td>\n",
       "      <td>t</td>\n",
       "      <td>g</td>\n",
       "      <td>32.08</td>\n",
       "      <td>4.000</td>\n",
       "      <td>2.50</td>\n",
       "      <td>00360</td>\n",
       "      <td>0</td>\n",
       "      <td>1</td>\n",
       "    </tr>\n",
       "  </tbody>\n",
       "</table>\n",
       "</div>"
      ],
      "text/plain": [
       "  C1 C2 C3 C4 C5 C6 C7 C8 C9 C10     N1     N2    N3     N4   N5  Approval\n",
       "0  a  u  g  q  h  t  t  6  f   g  58.67  4.460  3.04  00043  560         1\n",
       "1  a  u  g  q  h  t  f  0  f   g  24.50  0.500  1.50  00280  824         1\n",
       "2  b  u  g  w  v  t  t  5  t   g  27.83  1.540  3.75  00100    3         1\n",
       "3  b  u  g  w  v  t  f  0  f   s  20.17  5.625  1.71  00120    0         1\n",
       "4  b  u  g  m  v  t  f  0  t   g  32.08  4.000  2.50  00360    0         1"
      ]
     },
     "execution_count": 3,
     "metadata": {},
     "output_type": "execute_result"
    }
   ],
   "source": [
    "df.rename({'b':\"C1\", 'u':\"C2\", 'g':\"C3\",'w':\"C4\",'v':\"C5\",'t':\"C6\",'t.1':\"C7\",'01':\"C8\",'f':\"C9\",'g.1':\"C10\",\n",
    "          '30.83':\"N1\",'0':\"N2\",'1.25':\"N3\",'0.1':\"N5\",'00202':\"N4\",\n",
    "          '+':\"Approval\"}, axis=1, inplace=True)\n",
    "# Reordering columns\n",
    "df = df[[\"C1\", \"C2\", \"C3\", \"C4\", \"C5\", \"C6\", \"C7\", \"C8\", \"C9\", \"C10\", \"N1\", \"N2\", \"N3\", \"N4\", \"N5\", \"Approval\"]]\n",
    "\n",
    "# Correcting the Data Types of predictor variables\n",
    "df[\"C1\"] = df[\"C1\"].astype(\"category\")\n",
    "df[\"C2\"] = df[\"C2\"].astype(\"category\")\n",
    "df[\"C3\"] = df[\"C3\"].astype(\"category\")\n",
    "df[\"C4\"] = df[\"C4\"].astype(\"category\")\n",
    "df[\"C5\"] = df[\"C5\"].astype(\"category\")\n",
    "df[\"C6\"] = df[\"C6\"].astype(\"category\")\n",
    "df[\"C7\"] = df[\"C7\"].astype(\"category\")\n",
    "df[\"C8\"] = df[\"C8\"].astype(\"category\")\n",
    "df[\"C9\"] = df[\"C9\"].astype(\"category\")\n",
    "df[\"C10\"] = df[\"C10\"].astype(\"category\")\n",
    "#df[\"N1\"] = pd.to_numeric(df[\"N1\"])\n",
    "\n",
    "# Updating the predictions column to contain 1 when the application was approved, 0 otherwise\n",
    "df.loc[(df['Approval']=='-'), 'Approval'] = 0\n",
    "df.loc[(df['Approval']=='+'), 'Approval'] = 1\n",
    "df = df.astype({'Approval': 'int32'})\n",
    "df.head(5)"
   ]
  },
  {
   "cell_type": "markdown",
   "id": "0394d8d4",
   "metadata": {},
   "source": [
    "#### EDA\n",
    "Let's see what the data tells us at a first glance."
   ]
  },
  {
   "cell_type": "code",
   "execution_count": 4,
   "id": "4a669fd4",
   "metadata": {},
   "outputs": [
    {
     "name": "stdout",
     "output_type": "stream",
     "text": [
      "<class 'pandas.core.frame.DataFrame'>\n",
      "RangeIndex: 689 entries, 0 to 688\n",
      "Data columns (total 16 columns):\n",
      " #   Column    Non-Null Count  Dtype   \n",
      "---  ------    --------------  -----   \n",
      " 0   C1        689 non-null    category\n",
      " 1   C2        689 non-null    category\n",
      " 2   C3        689 non-null    category\n",
      " 3   C4        689 non-null    category\n",
      " 4   C5        689 non-null    category\n",
      " 5   C6        689 non-null    category\n",
      " 6   C7        689 non-null    category\n",
      " 7   C8        689 non-null    category\n",
      " 8   C9        689 non-null    category\n",
      " 9   C10       689 non-null    category\n",
      " 10  N1        689 non-null    object  \n",
      " 11  N2        689 non-null    float64 \n",
      " 12  N3        689 non-null    float64 \n",
      " 13  N4        689 non-null    object  \n",
      " 14  N5        689 non-null    int64   \n",
      " 15  Approval  689 non-null    int32   \n",
      "dtypes: category(10), float64(2), int32(1), int64(1), object(2)\n",
      "memory usage: 39.2+ KB\n"
     ]
    }
   ],
   "source": [
    "df.info()"
   ]
  },
  {
   "cell_type": "markdown",
   "id": "7f1e6670",
   "metadata": {},
   "source": [
    "###### Some more Data Processing\n",
    "\n",
    "Let's convert the categorical variables into numeric respresentations"
   ]
  },
  {
   "cell_type": "markdown",
   "id": "7c2aeb65",
   "metadata": {},
   "source": [
    "# Dropping Missing Values\n",
    "This data set contains a lot of missing values in a lot of different columns. For the purpose of simplicity, and since we have a moderately big sample size, let's drop all rows with missing values"
   ]
  },
  {
   "cell_type": "code",
   "execution_count": 5,
   "id": "c9ca101f",
   "metadata": {
    "scrolled": true
   },
   "outputs": [],
   "source": [
    "df.head()\n",
    "df.replace(to_replace=[\"?\"], value=np.nan, inplace=True)"
   ]
  },
  {
   "cell_type": "markdown",
   "id": "e1fce146",
   "metadata": {},
   "source": [
    "Let's create a new data frame, so that we can use the old `df` object in case we want to explore the missing values in more detail"
   ]
  },
  {
   "cell_type": "code",
   "execution_count": 6,
   "id": "9259f8c6",
   "metadata": {},
   "outputs": [
    {
     "data": {
      "text/plain": [
       "(689, 16)"
      ]
     },
     "execution_count": 6,
     "metadata": {},
     "output_type": "execute_result"
    }
   ],
   "source": [
    "# df_d is the DatFrame after dropping Missing Values\n",
    "df_d = df.dropna(axis='index', how='any') \n",
    "df.shape"
   ]
  },
  {
   "cell_type": "markdown",
   "id": "56446c22",
   "metadata": {},
   "source": [
    "We ended up dropping 37 rows of data"
   ]
  }
 ],
 "metadata": {
  "kernelspec": {
   "display_name": "Python 3",
   "language": "python",
   "name": "python3"
  },
  "language_info": {
   "codemirror_mode": {
    "name": "ipython",
    "version": 3
   },
   "file_extension": ".py",
   "mimetype": "text/x-python",
   "name": "python",
   "nbconvert_exporter": "python",
   "pygments_lexer": "ipython3",
   "version": "3.8.8"
  }
 },
 "nbformat": 4,
 "nbformat_minor": 5
}
